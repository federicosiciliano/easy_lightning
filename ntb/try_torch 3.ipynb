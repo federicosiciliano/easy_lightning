{
 "cells": [
  {
   "cell_type": "markdown",
   "metadata": {},
   "source": [
    "# Testing Easy Torch"
   ]
  },
  {
   "cell_type": "code",
   "execution_count": null,
   "metadata": {},
   "outputs": [],
   "source": [
    "import sys"
   ]
  },
  {
   "cell_type": "code",
   "execution_count": null,
   "metadata": {},
   "outputs": [],
   "source": [
    "project_folder = \"../\"\n",
    "sys.path.insert(0, project_folder)\n",
    "print(sys.path) # View the path and verify"
   ]
  },
  {
   "cell_type": "code",
   "execution_count": null,
   "metadata": {},
   "outputs": [],
   "source": [
    "import easy_data, easy_exp, easy_torch"
   ]
  },
  {
   "cell_type": "markdown",
   "metadata": {},
   "source": [
    "## Configuration loading"
   ]
  },
  {
   "cell_type": "code",
   "execution_count": null,
   "metadata": {},
   "outputs": [],
   "source": [
    "cfg = easy_exp.cfg.load_configuration(\"config_nn\")"
   ]
  },
  {
   "cell_type": "code",
   "execution_count": null,
   "metadata": {},
   "outputs": [],
   "source": [
    "cfg"
   ]
  },
  {
   "cell_type": "code",
   "execution_count": null,
   "metadata": {},
   "outputs": [],
   "source": [
    "data = easy_data.data.load_data(**cfg[\"data\"])"
   ]
  },
  {
   "cell_type": "code",
   "execution_count": null,
   "metadata": {},
   "outputs": [],
   "source": [
    "loaders = easy_torch.preparation.prepare_data_loaders(data, cfg[\"model\"][\"loader_params\"])"
   ]
  },
  {
   "cell_type": "code",
   "execution_count": null,
   "metadata": {},
   "outputs": [],
   "source": [
    "cfg[\"model\"][\"in_channels\"] = data[\"train_x\"].shape[1]\n",
    "cfg[\"model\"][\"out_features\"] = data[\"train_y\"].shape[1]"
   ]
  },
  {
   "cell_type": "code",
   "execution_count": null,
   "metadata": {},
   "outputs": [],
   "source": [
    "main_module = easy_torch.model.get_torchvision_model(**cfg[\"model\"])"
   ]
  },
  {
   "cell_type": "code",
   "execution_count": null,
   "metadata": {},
   "outputs": [],
   "source": [
    "exp_found, experiment_id = easy_exp.exp.get_experiment_id(cfg)"
   ]
  },
  {
   "cell_type": "code",
   "execution_count": null,
   "metadata": {},
   "outputs": [],
   "source": [
    "print(exp_found, experiment_id)"
   ]
  },
  {
   "cell_type": "code",
   "execution_count": null,
   "metadata": {},
   "outputs": [],
   "source": [
    "# Set experiment_id in trainer_params\n",
    "trainer_params = easy_torch.preparation.prepare_experiment_id(cfg[\"model\"][\"trainer_params\"], experiment_id)"
   ]
  },
  {
   "cell_type": "code",
   "execution_count": null,
   "metadata": {},
   "outputs": [],
   "source": [
    "trainer_params[\"callbacks\"] = easy_torch.preparation.prepare_callbacks(trainer_params)\n",
    "trainer_params[\"logger\"] = easy_torch.preparation.prepare_logger(trainer_params)\n",
    "trainer = easy_torch.preparation.prepare_trainer(**trainer_params)\n",
    "\n",
    "# callbacks = easy_torch.preparation.prepare_callbacks(cfg[\"model\"][\"trainer_params\"])\n",
    "# logger = easy_torch.preparation.prepare_logger(cfg[\"model\"][\"trainer_params\"])\n",
    "# already_defined = [\"callbacks\",\"logger\"]\n",
    "# trainer = easy_torch.preparation.prepare_trainer(**{k:cfg[\"model\"][\"trainer_params\"][k] for k in cfg[\"model\"][\"trainer_params\"] if k not in already_defined}, callbacks=callbacks, logger=logger)"
   ]
  },
  {
   "cell_type": "code",
   "execution_count": null,
   "metadata": {},
   "outputs": [],
   "source": [
    "loss = easy_torch.preparation.prepare_loss(cfg[\"model\"][\"loss\"])"
   ]
  },
  {
   "cell_type": "code",
   "execution_count": null,
   "metadata": {},
   "outputs": [],
   "source": [
    "optimizer = easy_torch.preparation.prepare_optimizer(**cfg[\"model\"][\"optimizer\"])"
   ]
  },
  {
   "cell_type": "code",
   "execution_count": null,
   "metadata": {},
   "outputs": [],
   "source": [
    "model = easy_torch.process.create_model(main_module, loss, optimizer)"
   ]
  },
  {
   "cell_type": "code",
   "execution_count": null,
   "metadata": {},
   "outputs": [],
   "source": [
    "easy_torch.process.train_model(trainer, model, loaders)"
   ]
  },
  {
   "cell_type": "code",
   "execution_count": null,
   "metadata": {},
   "outputs": [],
   "source": [
    "easy_torch.process.test_model(trainer, model, loaders)"
   ]
  },
  {
   "cell_type": "code",
   "execution_count": null,
   "metadata": {},
   "outputs": [],
   "source": [
    "easy_exp.exp.save_experiment(cfg)"
   ]
  },
  {
   "cell_type": "code",
   "execution_count": null,
   "metadata": {},
   "outputs": [],
   "source": []
  }
 ],
 "metadata": {
  "kernelspec": {
   "display_name": "Python 3",
   "language": "python",
   "name": "python3"
  },
  "language_info": {
   "codemirror_mode": {
    "name": "ipython",
    "version": 3
   },
   "file_extension": ".py",
   "mimetype": "text/x-python",
   "name": "python",
   "nbconvert_exporter": "python",
   "pygments_lexer": "ipython3",
   "version": "3.11.5"
  },
  "orig_nbformat": 4,
  "vscode": {
   "interpreter": {
    "hash": "31f2aee4e71d21fbe5cf8b01ff0e069b9275f58929596ceb00d14d90e3e16cd6"
   }
  }
 },
 "nbformat": 4,
 "nbformat_minor": 2
}
