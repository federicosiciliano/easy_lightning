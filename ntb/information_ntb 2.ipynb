{
 "cells": [
  {
   "cell_type": "markdown",
   "metadata": {},
   "source": [
    "### Configuration in Python: YAML vs Argparse\n",
    "\n",
    "#### YAML Files\n",
    "\n",
    " Pros\n",
    "\n",
    "1. **Hierarchical View of Configuration**: YAML files make it easy to organize your configuration in a hierarchical manner, which is easier to read and understand. This is especially useful for complex configurations.\n",
    "\n",
    "Cons\n",
    "\n",
    "1. **Not Python**: YAML files are not written in Python, so you can't use Python data types or functions directly. If you have parameters that need special types or calculations, you'll need to write additional code to parse the YAML and convert the values.\n",
    "\n",
    "#### Argparse\n",
    "\n",
    "Pros\n",
    "\n",
    "1. **Python**: Since Argparse is a Python library, you can directly use Python data types and libraries for your default values. You can also add type checks, making it easier to validate user input.\n",
    "\n",
    "Cons\n",
    "\n",
    "1. **Not Hierarchical**: Argparse typically creates a flat list of command-line arguments. While it's possible to simulate a hierarchical structure through naming conventions (e.g., `database.username`, `database.password`), it's not as naturally hierarchical as a YAML file.\n",
    "\n"
   ]
  },
  {
   "cell_type": "markdown",
   "metadata": {},
   "source": [
    "### Goals for Experiment Configurations\n",
    "\n",
    "#### Handle Experiments Configurations\n",
    "\n",
    "- **Save with Unique Experiment ID**\n",
    "    - Experiment ID should be a 16-character long alphanumeric string by default.\n",
    "    - A prefix can be applied to the Experiment ID to ensure that experiments run on different machines don't mix.\n",
    "<br><br>\n",
    "- **Check if Configuration Has Been Run**\n",
    "    - Implement a mechanism to verify whether a specific configuration has already been executed.\n",
    "\n",
    "By following these goals, you can create a robust and scalable system to manage all your experiments.\n"
   ]
  },
  {
   "cell_type": "markdown",
   "metadata": {},
   "source": [
    "###  Questions and Considerations\n",
    "\n",
    "####  Should We Separate Keys that Need to Be Swept?\n",
    "\n",
    "- **Option 1: Use Separate Keys**\n",
    "    - Consider having a separate key or section in your configuration specifically for parameters that will be swept. This makes it easier to identify which variables are being experimented with.\n",
    "\n",
    "- **Option 2: Array Notation**\n",
    "    - Alternatively, you can use an array notation like `[dataset_name1, dataset_name2, ...]` within the same key to indicate that it will be swept.\n",
    "\n",
    "#####  Simplest Solution\n",
    "\n",
    "- **Warning for 'To-Sweep' Keys**\n",
    "    - The simplest solution could be to throw a warning if a configuration file contains a key that is meant to be swept. This ensures the user is aware that the particular configuration will involve multiple runs with varying parameters."
   ]
  }
 ],
 "metadata": {
  "kernelspec": {
   "display_name": "Python 3",
   "language": "python",
   "name": "python3"
  },
  "language_info": {
   "codemirror_mode": {
    "name": "ipython",
    "version": 3
   },
   "file_extension": ".py",
   "mimetype": "text/x-python",
   "name": "python",
   "nbconvert_exporter": "python",
   "pygments_lexer": "ipython3",
   "version": "3.8.9"
  },
  "orig_nbformat": 4,
  "vscode": {
   "interpreter": {
    "hash": "31f2aee4e71d21fbe5cf8b01ff0e069b9275f58929596ceb00d14d90e3e16cd6"
   }
  }
 },
 "nbformat": 4,
 "nbformat_minor": 2
}
