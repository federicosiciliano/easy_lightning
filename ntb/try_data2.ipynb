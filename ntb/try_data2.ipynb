{
 "cells": [
  {
   "cell_type": "markdown",
   "metadata": {},
   "source": [
    "# Testing Easy Data"
   ]
  },
  {
   "cell_type": "code",
   "execution_count": 1,
   "metadata": {},
   "outputs": [],
   "source": [
    "import sys"
   ]
  },
  {
   "cell_type": "code",
   "execution_count": null,
   "metadata": {},
   "outputs": [],
   "source": [
    "project_folder = \"../\"\n",
    "sys.path.insert(0, project_folder)\n",
    "print(sys.path) # view the path and verify"
   ]
  },
  {
   "cell_type": "code",
   "execution_count": 3,
   "metadata": {},
   "outputs": [],
   "source": [
    "import easy_exp, easy_data"
   ]
  },
  {
   "cell_type": "markdown",
   "metadata": {},
   "source": [
    "## Configuration and Data Loading"
   ]
  },
  {
   "cell_type": "code",
   "execution_count": 4,
   "metadata": {},
   "outputs": [],
   "source": [
    "cfg = easy_exp.cfg.load_configuration(\"local_config\")"
   ]
  },
  {
   "cell_type": "code",
   "execution_count": 5,
   "metadata": {},
   "outputs": [],
   "source": [
    "cfg[\"data\"][\"split_vars\"] = easy_data.utils.separate_single_column"
   ]
  },
  {
   "cell_type": "code",
   "execution_count": 6,
   "metadata": {},
   "outputs": [],
   "source": [
    "data = easy_data.data.load_data(**cfg[\"data\"])"
   ]
  },
  {
   "cell_type": "code",
   "execution_count": 7,
   "metadata": {},
   "outputs": [
    {
     "data": {
      "text/plain": [
       "{'train_x': array([[2., 7., 6., 1.],\n",
       "        [4., 5., 6., 1.],\n",
       "        [5., 5., 5., 0.],\n",
       "        [5., 2., 2., 1.],\n",
       "        [2., 2., 2., 0.],\n",
       "        [9., 6., 2., 1.]]),\n",
       " 'train_y': array([[0., 1.],\n",
       "        [0., 1.],\n",
       "        [1., 0.],\n",
       "        [0., 1.],\n",
       "        [1., 0.],\n",
       "        [0., 1.]]),\n",
       " 'val_x': array([[1., 1., 1., 0.],\n",
       "        [7., 8., 9., 0.]]),\n",
       " 'val_y': array([[1., 0.],\n",
       "        [1., 0.]]),\n",
       " 'test_x': array([[8., 9., 6., 1.],\n",
       "        [1., 2., 3., 0.]]),\n",
       " 'test_y': array([[0., 1.],\n",
       "        [1., 0.]])}"
      ]
     },
     "execution_count": 7,
     "metadata": {},
     "output_type": "execute_result"
    }
   ],
   "source": [
    "data"
   ]
  },
  {
   "cell_type": "code",
   "execution_count": 8,
   "metadata": {},
   "outputs": [],
   "source": [
    "cfg = easy_exp.cfg.load_configuration(\"torchvision_config\")"
   ]
  },
  {
   "cell_type": "code",
   "execution_count": 13,
   "metadata": {},
   "outputs": [],
   "source": [
    "data = easy_data.data.load_data(**cfg[\"data\"])"
   ]
  },
  {
   "cell_type": "code",
   "execution_count": 14,
   "metadata": {},
   "outputs": [
    {
     "name": "stdout",
     "output_type": "stream",
     "text": [
      "train x torch.Size([48000, 1, 28, 28])\n",
      "\n",
      "train y (48000, 10)\n",
      "\n",
      "val x torch.Size([12000, 1, 28, 28])\n",
      "\n",
      "val y (12000, 10)\n",
      "\n",
      "test x torch.Size([10000, 1, 28, 28])\n",
      "\n",
      "test y (10000, 10)\n",
      "\n"
     ]
    }
   ],
   "source": [
    "for split in [\"train\",\"val\",\"test\"]:\n",
    "    for var in [\"x\",\"y\"]:\n",
    "        print(split,var, data[split+\"_\"+var].shape)\n",
    "        print()"
   ]
  }
 ],
 "metadata": {
  "kernelspec": {
   "display_name": "Python 3",
   "language": "python",
   "name": "python3"
  },
  "language_info": {
   "codemirror_mode": {
    "name": "ipython",
    "version": 3
   },
   "file_extension": ".py",
   "mimetype": "text/x-python",
   "name": "python",
   "nbconvert_exporter": "python",
   "pygments_lexer": "ipython3",
   "version": "3.8.9"
  },
  "orig_nbformat": 4,
  "vscode": {
   "interpreter": {
    "hash": "31f2aee4e71d21fbe5cf8b01ff0e069b9275f58929596ceb00d14d90e3e16cd6"
   }
  }
 },
 "nbformat": 4,
 "nbformat_minor": 2
}
