{
 "cells": [
  {
   "attachments": {},
   "cell_type": "markdown",
   "metadata": {},
   "source": [
    "# Test Easy Exp"
   ]
  },
  {
   "cell_type": "code",
   "execution_count": null,
   "metadata": {},
   "outputs": [],
   "source": [
    "import sys\n",
    "from copy import deepcopy"
   ]
  },
  {
   "cell_type": "code",
   "execution_count": null,
   "metadata": {},
   "outputs": [],
   "source": [
    "project_folder = \"../\"\n",
    "sys.path.insert(0, project_folder)\n",
    "print(sys.path) # view the path and verify"
   ]
  },
  {
   "cell_type": "code",
   "execution_count": null,
   "metadata": {},
   "outputs": [],
   "source": [
    "import easy_exp"
   ]
  },
  {
   "attachments": {},
   "cell_type": "markdown",
   "metadata": {},
   "source": [
    "## Configuration loading"
   ]
  },
  {
   "cell_type": "code",
   "execution_count": null,
   "metadata": {},
   "outputs": [],
   "source": [
    "cfg = easy_exp.cfg.load_configuration()"
   ]
  },
  {
   "cell_type": "code",
   "execution_count": null,
   "metadata": {},
   "outputs": [],
   "source": [
    "cfg"
   ]
  },
  {
   "cell_type": "code",
   "execution_count": null,
   "metadata": {},
   "outputs": [],
   "source": [
    "type(cfg)"
   ]
  },
  {
   "cell_type": "code",
   "execution_count": null,
   "metadata": {},
   "outputs": [],
   "source": [
    "type(cfg[\"app1\"]), type(cfg[\"__exp__\"])"
   ]
  },
  {
   "cell_type": "code",
   "execution_count": null,
   "metadata": {},
   "outputs": [],
   "source": [
    "cfg[\"__exp__\"]"
   ]
  },
  {
   "cell_type": "code",
   "execution_count": null,
   "metadata": {},
   "outputs": [],
   "source": [
    "cfg[\"app1\"][\"foo_parse2\"]"
   ]
  },
  {
   "cell_type": "code",
   "execution_count": null,
   "metadata": {},
   "outputs": [],
   "source": [
    "cfg[\"app1.foo_parse2\"]"
   ]
  },
  {
   "cell_type": "code",
   "execution_count": null,
   "metadata": {},
   "outputs": [],
   "source": [
    "cfg[\"app3.foo_str\"] = \"abc\""
   ]
  },
  {
   "cell_type": "code",
   "execution_count": null,
   "metadata": {},
   "outputs": [],
   "source": [
    "cfg[\"app3.foo_str\"],cfg[\"app3\"][\"foo_str\"]"
   ]
  },
  {
   "attachments": {},
   "cell_type": "markdown",
   "metadata": {},
   "source": [
    "## Experiment"
   ]
  },
  {
   "cell_type": "code",
   "execution_count": null,
   "metadata": {},
   "outputs": [],
   "source": [
    "cfg, exp_cfg = easy_exp.exp.separate_exp_cfg(cfg) # Drop __exp__ key cause it doesn't define an experiment's parameters"
   ]
  },
  {
   "attachments": {},
   "cell_type": "markdown",
   "metadata": {},
   "source": [
    "### Experiment ids"
   ]
  },
  {
   "cell_type": "code",
   "execution_count": null,
   "metadata": {},
   "outputs": [],
   "source": [
    "print(easy_exp.exp.generate_random_id())\n",
    "print(easy_exp.exp.generate_random_id(key_prefix=\"B-\"))\n",
    "print(easy_exp.exp.generate_random_id(key_len=8))\n",
    "print(easy_exp.exp.generate_random_id(key_len=4,key_prefix=\"FS\"))"
   ]
  },
  {
   "cell_type": "code",
   "execution_count": null,
   "metadata": {},
   "outputs": [],
   "source": [
    "import string\n",
    "import numpy as np\n",
    "poss_chars = len(string.ascii_letters + string.digits) #62\n",
    "default_k = 16\n",
    "default_poss_keys = poss_chars ** default_k\n",
    "print(\"Default number of possible keys: 10\",\"^\",np.log10(float(default_poss_keys)))"
   ]
  },
  {
   "attachments": {},
   "cell_type": "markdown",
   "metadata": {},
   "source": [
    "### Hashing"
   ]
  },
  {
   "cell_type": "code",
   "execution_count": null,
   "metadata": {},
   "outputs": [],
   "source": [
    "#The only solution, is save each numpy array / pandas DF / else in the configuration as their own experiment, having a certain experiment ID\n",
    "numpy_key = \"app1.foo_parse2\"\n",
    "np_to_save_elsewhere = cfg[numpy_key]\n",
    "np_exp_id = 123 #easy_exp.exp.generate_random_id() #get numpy object experiment ID somehow\n",
    "cfg[numpy_key] = np_exp_id #now cfg doesn't have the numpy array anymore\n",
    "\n",
    "pandas_key = \"app1.foo_parse3\"\n",
    "pd_to_save_elsewhere = cfg[pandas_key]\n",
    "pd_exp_id = 42 #easy_exp.exp.generate_random_id() #get pandas object experiment ID somehow\n",
    "cfg[pandas_key] = pd_exp_id #now cfg doesn't have the pandas DF anymore"
   ]
  },
  {
   "cell_type": "code",
   "execution_count": null,
   "metadata": {},
   "outputs": [],
   "source": [
    "easy_exp.exp.hash_config(cfg)"
   ]
  },
  {
   "cell_type": "code",
   "execution_count": null,
   "metadata": {},
   "outputs": [],
   "source": [
    "cfg"
   ]
  },
  {
   "cell_type": "code",
   "execution_count": null,
   "metadata": {},
   "outputs": [],
   "source": [
    "#cfg, exp_cfg = easy_exp.exp.separate_exp_cfg(cfg) # Drop __exp__ key cause it doesn't define an experiment's parameters\n",
    "easy_exp.exp.get_experiment_id(cfg, exp_cfg)"
   ]
  },
  {
   "attachments": {},
   "cell_type": "markdown",
   "metadata": {},
   "source": [
    "### Save experiments"
   ]
  },
  {
   "cell_type": "code",
   "execution_count": null,
   "metadata": {},
   "outputs": [],
   "source": [
    "cfg = easy_exp.exp.combine_exp_cfg(cfg, exp_cfg)"
   ]
  },
  {
   "cell_type": "code",
   "execution_count": null,
   "metadata": {},
   "outputs": [],
   "source": [
    "cfg[\"__exp__\"]"
   ]
  },
  {
   "cell_type": "code",
   "execution_count": null,
   "metadata": {},
   "outputs": [],
   "source": [
    "easy_exp.exp.save_experiment(cfg)\n",
    "# Save experiment can be called directly; it will set the experiment id directly"
   ]
  },
  {
   "cell_type": "code",
   "execution_count": null,
   "metadata": {},
   "outputs": [],
   "source": [
    "easy_exp.exp.get_experiment_id(cfg), easy_exp.exp.get_experiment_id(cfg)\n",
    "# If the cfg exists, we get\n",
    "# exp_found True\n",
    "# Always the same experiment_id"
   ]
  },
  {
   "cell_type": "code",
   "execution_count": null,
   "metadata": {},
   "outputs": [],
   "source": [
    "cfg, exp_cfg = easy_exp.exp.separate_exp_cfg(cfg) # Drop __exp__ key cause it doesn't define an experiment's parameters"
   ]
  },
  {
   "cell_type": "code",
   "execution_count": null,
   "metadata": {},
   "outputs": [],
   "source": [
    "easy_exp.exp.get_experiment_id(cfg,exp_cfg), easy_exp.exp.get_experiment_id(cfg,exp_cfg) # Even if the cfg is divided, the result is the same"
   ]
  },
  {
   "cell_type": "code",
   "execution_count": null,
   "metadata": {},
   "outputs": [],
   "source": [
    "cfg[\"app5\"] = 5"
   ]
  },
  {
   "cell_type": "code",
   "execution_count": null,
   "metadata": {},
   "outputs": [],
   "source": [
    "easy_exp.exp.get_experiment_id(cfg,exp_cfg), easy_exp.exp.get_experiment_id(cfg,exp_cfg) # If the cfg doesn't exist, we get a different experiment_id. Also, exp_found is False"
   ]
  },
  {
   "cell_type": "code",
   "execution_count": null,
   "metadata": {},
   "outputs": [],
   "source": [
    "easy_exp.exp.get_set_experiment_id(cfg,exp_cfg)"
   ]
  },
  {
   "cell_type": "code",
   "execution_count": null,
   "metadata": {},
   "outputs": [],
   "source": [
    "exp_cfg[\"experiment_id\"] # Now the experiment_id is saved inside exp_cfg"
   ]
  },
  {
   "cell_type": "code",
   "execution_count": null,
   "metadata": {},
   "outputs": [],
   "source": [
    "easy_exp.exp.get_experiment_id(cfg,exp_cfg), exp_cfg[\"experiment_id\"]\n",
    "# get_experiment_id is meant to search for the experiment in the file,\n",
    "# so, if it doesn't find the cfg in the saved configurations,\n",
    "# It will not set the exp_id inside exp_cfg"
   ]
  },
  {
   "cell_type": "code",
   "execution_count": null,
   "metadata": {},
   "outputs": [],
   "source": [
    "easy_exp.exp.get_set_experiment_id(cfg,exp_cfg), exp_cfg[\"experiment_id\"]\n",
    "# In the same way, get_set_experiment_id is meant to search for the experiment in the file,\n",
    "# so, if it doesn't find the cfg in the saved configurations,\n",
    "# it will not return the exp_id inside exp_cfg\n",
    "# and will overwrite it"
   ]
  },
  {
   "cell_type": "code",
   "execution_count": null,
   "metadata": {},
   "outputs": [],
   "source": [
    "prev_cfg = deepcopy(cfg)"
   ]
  },
  {
   "cell_type": "code",
   "execution_count": null,
   "metadata": {},
   "outputs": [],
   "source": [
    "easy_exp.exp.save_experiment(cfg,exp_cfg)"
   ]
  },
  {
   "cell_type": "code",
   "execution_count": null,
   "metadata": {},
   "outputs": [],
   "source": [
    "prev_cfg == cfg # Check if cfg has been restored"
   ]
  },
  {
   "cell_type": "code",
   "execution_count": null,
   "metadata": {},
   "outputs": [],
   "source": [
    "# Now that the experiment is saved, we will always get the same experiment_id\n",
    "easy_exp.exp.get_experiment_id(cfg,exp_cfg), exp_cfg[\"experiment_id\"], easy_exp.exp.get_set_experiment_id(cfg,exp_cfg), exp_cfg[\"experiment_id\"]"
   ]
  },
  {
   "cell_type": "code",
   "execution_count": null,
   "metadata": {},
   "outputs": [],
   "source": [
    "# If we modify cfg so that is new, we get the same results as before\n",
    "cfg[\"new_key\"] = \"kmasdkasm\"\n",
    "cfg[\"new_key2\"] = {\"abc\":123}\n",
    "easy_exp.exp.get_experiment_id(cfg,exp_cfg), exp_cfg[\"experiment_id\"], easy_exp.exp.get_set_experiment_id(cfg,exp_cfg), exp_cfg[\"experiment_id\"]"
   ]
  },
  {
   "cell_type": "code",
   "execution_count": null,
   "metadata": {},
   "outputs": [],
   "source": [
    "easy_exp.exp.save_experiment(cfg,exp_cfg)"
   ]
  },
  {
   "cell_type": "code",
   "execution_count": null,
   "metadata": {},
   "outputs": [],
   "source": [
    "exp_cfg[\"__nosave__\"] # Check nosave keys"
   ]
  },
  {
   "cell_type": "code",
   "execution_count": null,
   "metadata": {},
   "outputs": [],
   "source": [
    "cfg[\"app2.foo_str\"] = \"modified\" # Modify a nosave key"
   ]
  },
  {
   "cell_type": "code",
   "execution_count": null,
   "metadata": {},
   "outputs": [],
   "source": [
    "# If a nosave key is modified, the cfg will still match a saved one\n",
    "easy_exp.exp.get_experiment_id(cfg,exp_cfg), exp_cfg[\"experiment_id\"], easy_exp.exp.get_set_experiment_id(cfg,exp_cfg), exp_cfg[\"experiment_id\"]"
   ]
  },
  {
   "attachments": {},
   "cell_type": "markdown",
   "metadata": {},
   "source": [
    "### Load experiments"
   ]
  },
  {
   "cell_type": "code",
   "execution_count": null,
   "metadata": {},
   "outputs": [],
   "source": [
    "all_exps = easy_exp.exp.get_experiments(**exp_cfg)\n",
    "all_exps"
   ]
  },
  {
   "cell_type": "code",
   "execution_count": null,
   "metadata": {},
   "outputs": [],
   "source": [
    "all_exps = easy_exp.exp.get_experiments(**exp_cfg, sub_cfg={\"abc\":123}) # If not setting check_type, nothing will be checked\n",
    "all_exps"
   ]
  },
  {
   "cell_type": "code",
   "execution_count": null,
   "metadata": {},
   "outputs": [],
   "source": [
    "# With contain, sub_cfg must be a \"subset\" of the dict\n",
    "to_check = {'new_key': 'kmasdkasm','new_key2': {'abc': 123}}\n",
    "all_exps = easy_exp.exp.get_experiments(**exp_cfg, sub_cfg = to_check, check_type=\"contain\") # If not setting check_type, nothing will be checked\n",
    "all_exps"
   ]
  },
  {
   "cell_type": "code",
   "execution_count": null,
   "metadata": {},
   "outputs": [],
   "source": [
    "#with match, sub_cfg must use relative keys\n",
    "to_check = {'new_key2.abc': 123}\n",
    "all_exps = easy_exp.exp.get_experiments(**exp_cfg, sub_cfg = to_check, check_type=\"match\")\n",
    "all_exps"
   ]
  },
  {
   "attachments": {},
   "cell_type": "markdown",
   "metadata": {},
   "source": [
    "### Sweep parameter"
   ]
  },
  {
   "cell_type": "code",
   "execution_count": null,
   "metadata": {},
   "outputs": [],
   "source": [
    "#If one parameter is an iterable of parameters to sweep, then use sweep. It will:\n",
    "#1) cycle on every value in the\n",
    "#2) set the value to the key\n",
    "#3) return the value\n",
    "#4) At the end of the cycle, restore the iterable as value to the key\n",
    "print(cfg['app1.foo_list1'])\n",
    "for param_value in cfg.sweep('app1.foo_list1'):\n",
    "    print(param_value,\"___\",cfg['app1.foo_list1'])\n",
    "    easy_exp.exp.get_set_experiment_id(cfg,exp_cfg),easy_exp.exp.save_experiment(cfg,exp_cfg)\n",
    "print(cfg['app1.foo_list1'])"
   ]
  },
  {
   "attachments": {},
   "cell_type": "markdown",
   "metadata": {},
   "source": [
    "## Sweep additions"
   ]
  },
  {
   "cell_type": "code",
   "execution_count": null,
   "metadata": {},
   "outputs": [],
   "source": [
    "cfg = easy_exp.cfg.load_configuration(\"config2\")"
   ]
  },
  {
   "cell_type": "code",
   "execution_count": null,
   "metadata": {},
   "outputs": [],
   "source": [
    "cfg"
   ]
  },
  {
   "cell_type": "code",
   "execution_count": null,
   "metadata": {},
   "outputs": [],
   "source": [
    "for value1 in cfg.sweep_additions(\"app2\"):\n",
    "    print(asdsadas)\n",
    "    for value2 in cfg.sweep_additions(\"app1\"):\n",
    "        print(value2)\n",
    "        print(cfg)\n",
    "        print()"
   ]
  },
  {
   "cell_type": "code",
   "execution_count": null,
   "metadata": {},
   "outputs": [],
   "source": [
    "cfg[\"app2\"]"
   ]
  },
  {
   "cell_type": "code",
   "execution_count": null,
   "metadata": {},
   "outputs": [],
   "source": [
    "cfg"
   ]
  },
  {
   "attachments": {},
   "cell_type": "markdown",
   "metadata": {},
   "source": [
    "# Yaml loading times"
   ]
  },
  {
   "cell_type": "code",
   "execution_count": null,
   "metadata": {},
   "outputs": [],
   "source": [
    "import yaml, os, time"
   ]
  },
  {
   "cell_type": "code",
   "execution_count": null,
   "metadata": {},
   "outputs": [],
   "source": [
    "for i in range(10):\n",
    "    with open(os.path.join(\"../out/exp\",str(i)+\".yaml\"), 'w') as f:\n",
    "        yaml.safe_dump(cfg[\"__exp__\"],f)"
   ]
  },
  {
   "cell_type": "code",
   "execution_count": null,
   "metadata": {},
   "outputs": [],
   "source": [
    "start_time = time.time()\n",
    "\n",
    "for cont in range(10001):\n",
    "    with open(os.path.join(\"../out/exp\",str(cont%10)+\".yaml\"), 'r') as f:\n",
    "       cfg2 = yaml.safe_load(f)\n",
    "\n",
    "       app = cfg==cfg2\n",
    "\n",
    "    if cont in [1,10,100,1000,10000]:\n",
    "        end_time = time.time()\n",
    "        print(cont,\"Time/read:\",(end_time-start_time)/cont)\n",
    "        print(cont,\"Tot time:\",(end_time-start_time))\n",
    "        print()"
   ]
  },
  {
   "attachments": {},
   "cell_type": "markdown",
   "metadata": {},
   "source": [
    "## Argparse"
   ]
  },
  {
   "cell_type": "code",
   "execution_count": null,
   "metadata": {},
   "outputs": [],
   "source": [
    "import argparse, numpy as np"
   ]
  },
  {
   "cell_type": "code",
   "execution_count": null,
   "metadata": {},
   "outputs": [],
   "source": [
    "parser = argparse.ArgumentParser(\n",
    "                    prog = 'ProgramName',\n",
    "                    description = 'What the program does',\n",
    "                    epilog = 'Text at the bottom of help')"
   ]
  },
  {
   "cell_type": "code",
   "execution_count": null,
   "metadata": {},
   "outputs": [],
   "source": [
    "parser.add_argument(\n",
    "    \"--foo.foo\", #name or flags - Either a name or a list of option strings, e.g. foo or -f, --foo.\n",
    "    #optional arguments will be identified by the - prefix; remaining arguments will be assumed to be positional\n",
    "    # action - The basic type of action to be taken when this argument is encountered at the command line.\n",
    "# nargs - The number of command-line arguments that should be consumed.\n",
    "# const - A constant value required by some action and nargs selections.\n",
    "    default = [1,2,3], #np.ones((2,3))# default - The value produced if the argument is absent from the command line and if it is absent from the namespace object.\n",
    "# type - The type to which the command-line argument should be converted.\n",
    "# choices - A sequence of the allowable values for the argument.\n",
    "# required - Whether or not the command-line option may be omitted (optionals only).\n",
    "# help - A brief description of what the argument does.\n",
    "# metavar - A name for the argument in usage messages.\n",
    "# dest - The name of the attribute to be added to the object returned by parse_args().\n",
    "    )"
   ]
  },
  {
   "cell_type": "code",
   "execution_count": null,
   "metadata": {},
   "outputs": [],
   "source": [
    "args = parser.parse_args([\"--foo\",\"1\"])"
   ]
  },
  {
   "cell_type": "code",
   "execution_count": null,
   "metadata": {},
   "outputs": [],
   "source": [
    "eval(\"np.ones((1,2))\")"
   ]
  }
 ],
 "metadata": {
  "kernelspec": {
   "display_name": "Python 3",
   "language": "python",
   "name": "python3"
  },
  "language_info": {
   "codemirror_mode": {
    "name": "ipython",
    "version": 3
   },
   "file_extension": ".py",
   "mimetype": "text/x-python",
   "name": "python",
   "nbconvert_exporter": "python",
   "pygments_lexer": "ipython3",
   "version": "3.9.6"
  },
  "orig_nbformat": 4,
  "vscode": {
   "interpreter": {
    "hash": "31f2aee4e71d21fbe5cf8b01ff0e069b9275f58929596ceb00d14d90e3e16cd6"
   }
  }
 },
 "nbformat": 4,
 "nbformat_minor": 2
}
