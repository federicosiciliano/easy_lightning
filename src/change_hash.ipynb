{
 "cells": [
  {
   "cell_type": "code",
   "execution_count": 1,
   "metadata": {},
   "outputs": [],
   "source": [
    "import os\n",
    "import json"
   ]
  },
  {
   "cell_type": "code",
   "execution_count": 2,
   "metadata": {},
   "outputs": [],
   "source": [
    "import easy_exp"
   ]
  },
  {
   "cell_type": "code",
   "execution_count": 3,
   "metadata": {},
   "outputs": [],
   "source": [
    "project_folder = \"../\"\n",
    "out_folder = os.path.join(project_folder, \"out\")\n",
    "exp_folder = os.path.join(out_folder, \"exp\")"
   ]
  },
  {
   "cell_type": "code",
   "execution_count": 4,
   "metadata": {},
   "outputs": [],
   "source": [
    "exp_name = \"11may\"\n",
    "keys_to_remove = [\"model.trainer_params.devices\",\"model.trainer_params.accelerator\"]"
   ]
  },
  {
   "cell_type": "code",
   "execution_count": 5,
   "metadata": {},
   "outputs": [],
   "source": [
    "exp_list_file = os.path.join(exp_folder, f\"{exp_name}_exp_list.json\")\n",
    "exp_folder = os.path.join(exp_folder, exp_name)"
   ]
  },
  {
   "cell_type": "code",
   "execution_count": 6,
   "metadata": {},
   "outputs": [],
   "source": [
    "#Load exp_list_file\n",
    "with open(exp_list_file, \"r\") as f:\n",
    "    exp_list = json.load(f)"
   ]
  },
  {
   "cell_type": "code",
   "execution_count": 7,
   "metadata": {},
   "outputs": [],
   "source": [
    "#For each json in exp_folder, load it\n",
    "\n",
    "for json_file in os.listdir(exp_folder):\n",
    "    if json_file.endswith(\".json\"):\n",
    "        exp_file = os.path.join(exp_folder, json_file)\n",
    "        with open(exp_file, \"r\") as f:\n",
    "            exp_cfg = easy_exp.cfg.ConfigObject(json.load(f))\n",
    "            exp_hash = easy_exp.exp.hash_config(exp_cfg)\n",
    "            \n",
    "            for key in keys_to_remove:\n",
    "                exp_cfg.pop(key)\n",
    "            new_hash = easy_exp.exp.hash_config(exp_cfg)\n",
    "            if new_hash == exp_hash:\n",
    "                print(f\"Exp {exp_hash} is the same\")\n",
    "            else:\n",
    "                #replace hash in exp_list\n",
    "                #exp_list[new_hash] = exp_list.pop(exp_hash)\n",
    "                #save new json\n",
    "                with open(exp_file, \"w\") as f:\n",
    "                    json.dump(exp_cfg, f)\n",
    "\n",
    "#save new exp_list\n",
    "with open(exp_list_file, \"w\") as f:\n",
    "    json.dump(exp_list, f)"
   ]
  },
  {
   "cell_type": "code",
   "execution_count": null,
   "metadata": {},
   "outputs": [],
   "source": []
  }
 ],
 "metadata": {
  "kernelspec": {
   "display_name": "Python 3",
   "language": "python",
   "name": "python3"
  },
  "language_info": {
   "codemirror_mode": {
    "name": "ipython",
    "version": 3
   },
   "file_extension": ".py",
   "mimetype": "text/x-python",
   "name": "python",
   "nbconvert_exporter": "python",
   "pygments_lexer": "ipython3",
   "version": "3.10.12"
  }
 },
 "nbformat": 4,
 "nbformat_minor": 2
}
